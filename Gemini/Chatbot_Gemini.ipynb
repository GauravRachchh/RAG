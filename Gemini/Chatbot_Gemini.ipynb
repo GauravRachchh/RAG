{
 "cells": [
  {
   "cell_type": "code",
   "execution_count": 2,
   "id": "3a0c9613-be1e-4dac-b3f0-4d33f05bd116",
   "metadata": {},
   "outputs": [],
   "source": [
    "# Step 2: Combine a retriver and QA Chain\n",
    "from langchain.chains import RetrievalQA\n",
    "from langchain_google_genai import ChatGoogleGenerativeAI\n",
    "from langchain.prompts import PromptTemplate\n",
    "\n",
    "# 1. Initialize the Google Generative AI Model\n",
    "model = ChatGoogleGenerativeAI(model=\"gemini-pro\",\n",
    "                               google_api_key=api_key,\n",
    "                               temperature=0.3,\n",
    "                               convert_system_message_to_human=True\n",
    "                              ) \n",
    "\n",
    "# 2. Create prompt template\n",
    "template = \"\"\"Use the following pieces of context to answer the question at the end. \n",
    "If you don't know the answer, say that you don't know, don't try to make up an answer. \n",
    "Keep the answer as concise as possible. \n",
    "Always say \"thanks for asking!\" at the end of the answer. \n",
    "{context}\n",
    "Question: {question} \n",
    "Helpful Answer:\"\"\"\n",
    "\n",
    "qa_prompt = PromptTemplate(input_variables=[\"context\",\"question\"]\n",
    "                                 , template=template, \n",
    "                                ) \n",
    "# 3. load a chain for question-answering\n",
    "qa_chain = RetrievalQA.from_chain_type(llm=model\n",
    "                                       , retriever= chroma_db.as_retriever()\n",
    "                                       , return_source_documents=True\n",
    "                                       , chain_type=\"stuff\"\n",
    "                                       , chain_type_kwargs={\"prompt\": qa_prompt} \n",
    "                                      )"
   ]
  },
  {
   "cell_type": "code",
   "execution_count": 3,
   "id": "ff3b89a2-5c52-4711-87c0-5b797a8f2d94",
   "metadata": {},
   "outputs": [],
   "source": [
    "# Step 3: Method to ask a question to gemini\n",
    "def chat_with_gemini(usermessage):\n",
    "    result=qa_chain(usermessage)\n",
    "    print(result)\n",
    "    return result[\"result\"]"
   ]
  },
  {
   "cell_type": "code",
   "execution_count": 4,
   "id": "567bd8e2-62d4-4daa-883b-c233d82db121",
   "metadata": {},
   "outputs": [
    {
     "name": "stdout",
     "output_type": "stream",
     "text": [
      "* Running on local URL:  http://127.0.0.1:7860\n",
      "\n",
      "To create a public link, set `share=True` in `launch()`.\n"
     ]
    },
    {
     "data": {
      "text/html": [
       "<div><iframe src=\"http://127.0.0.1:7860/\" width=\"100%\" height=\"500\" allow=\"autoplay; camera; microphone; clipboard-read; clipboard-write;\" frameborder=\"0\" allowfullscreen></iframe></div>"
      ],
      "text/plain": [
       "<IPython.core.display.HTML object>"
      ]
     },
     "metadata": {},
     "output_type": "display_data"
    },
    {
     "data": {
      "text/plain": []
     },
     "execution_count": 4,
     "metadata": {},
     "output_type": "execute_result"
    },
    {
     "name": "stderr",
     "output_type": "stream",
     "text": [
      "C:\\Users\\rachchh\\AppData\\Local\\Temp\\ipykernel_9644\\1873818990.py:3: LangChainDeprecationWarning: The method `Chain.__call__` was deprecated in langchain 0.1.0 and will be removed in 1.0. Use :meth:`~invoke` instead.\n",
      "  result=qa_chain(usermessage)\n",
      "C:\\Users\\rachchh\\AppData\\Local\\Programs\\Python\\Python313\\Lib\\site-packages\\langchain_google_genai\\chat_models.py:310: UserWarning: Convert_system_message_to_human will be deprecated!\n",
      "  warnings.warn(\"Convert_system_message_to_human will be deprecated!\")\n"
     ]
    },
    {
     "name": "stdout",
     "output_type": "stream",
     "text": [
      "{'query': 'how do you brew coffee?', 'result': \"I don't know. Thanks for asking!\", 'source_documents': [Document(metadata={}, page_content='adherence to the Nestlé principles will \\nbe considered in employing a person. No \\nconsideration will be given to a candidate’s origin, \\nnationality, religion, race, gender, disability, sexual \\norientation or age.\\nWhilst adequate recruitment tools may \\nimprove the hiring process, the decision to hire a \\ncandidate remains in the hands of the responsible \\nmanager, supported by the HR team. \\n Joining Nestlé The Nestlé Human Resources Policy\\n3\\n Total rewards\\nAttracting new hires and keeping current'), Document(metadata={}, page_content='values and principles, or programmes conducted \\nby our strategic learning partners. \\n Training and learning\\nAt Nestlé, a high performance culture supported by  \\ndifferentiated rewards and development is key to \\nthe delivery of individual and business objectives.  \\nThis is driven by the alignment of clear and chal- \\nlenging responsibilities and ensuring that employ-\\nees are aware of how their work impacts Nestlé.\\nThe line manager and employee work together'), Document(metadata={}, page_content='Employment and working conditions  The Nestlé Human Resources Policy\\n4\\nLearning is part of the Company culture.\\nEmployees at all levels are systematically \\nencouraged to consider how they upgrade their \\nknowledge and skills.\\nThe Company determines training and deve-\\nlopment priorities. The responsibility for turning \\nthese into actions is shared between employees, \\nline managers and the Human Resources. \\nExperience and on-the-job training are the \\nprimary source of learning. Managers are'), Document(metadata={}, page_content='does not replace the close relationship that our \\nmanagement maintains with all employees.\\nIn the spirit of continuous improvement, we \\nencourage two-way dialogue with our employees \\nthat goes beyond the traditional aspects of \\ncollective bargaining in order to share knowledge \\nand to jointly find opportunities related to \\nimportant matters such as Creating Shared Value, \\nthe health and safety in the workplace and our \\nconcern for the environment.\\nThe Company and employee representatives')]}\n"
     ]
    },
    {
     "name": "stderr",
     "output_type": "stream",
     "text": [
      "C:\\Users\\rachchh\\AppData\\Local\\Programs\\Python\\Python313\\Lib\\site-packages\\langchain_google_genai\\chat_models.py:310: UserWarning: Convert_system_message_to_human will be deprecated!\n",
      "  warnings.warn(\"Convert_system_message_to_human will be deprecated!\")\n"
     ]
    },
    {
     "name": "stdout",
     "output_type": "stream",
     "text": [
      "{'query': 'what is nestle?', 'result': 'Nestle is a food and beverage company. \\nThanks for asking!', 'source_documents': [Document(metadata={}, page_content='Nestec Ltd., Corporate Identity & Design,  \\nVevey, Switzerland\\nProduction\\nbrain’print GmbH, Switzerland\\nPaper\\nThis report is printed on BVS, a paper produced  \\nfrom well-managed forests and other controlled sources  \\ncertified by the Forest Stewardship Council (FSC). The Nestlé Human Resources Policy\\n1\\nAt Nestlé, we recognize that our employees \\nare the key to our success and nothing can be \\nachieved without their engagement. \\nThis document encompasses the guidelines'), Document(metadata={}, page_content='their skills in the long-term.\\nGiven the importance Nestlé puts on cultural \\ndiversity, employees who are interested in inter-\\nnational assignments can be given the opportunity \\nto work in different countries. The international \\ndimension of the Group is used as a competitive \\nadvantage to retain and develop talented people.\\nAt Nestlé, promotions are based on sustained \\nperformance from a results and behaviour \\nstandpoint, as well as future potential. The'), Document(metadata={}, page_content='With a ‘Nestlé in the Market’ (NiM) approach, \\nHR has adopted a streamlined approach to \\nensuring functional leadership and the highest \\nlevel of focus, clarity, and efficiency. Our structure \\nis based on three dedicated areas which provide \\nspecialized services (Centres of Expertise), \\ndeploy HR  strategies within a specific business \\n(Business Partners) and perform transactional \\nactivities (Employee Services).\\n A shared responsibility\\nThe long-term success of the Company'), Document(metadata={}, page_content='community involvement. \\nThose with line management responsibilities \\nare required to take personal ownership of safety \\nand health within their area of responsibility and \\nare encouraged to develop their capability in this \\narea.\\nNestlé’s commitment however goes beyond \\nits own employees. We care about all people \\nworking inside or outside our premises under \\ncontractual obligations with service providers \\nand we insist that they also take steps so that')]}\n"
     ]
    },
    {
     "name": "stderr",
     "output_type": "stream",
     "text": [
      "C:\\Users\\rachchh\\AppData\\Local\\Programs\\Python\\Python313\\Lib\\site-packages\\langchain_google_genai\\chat_models.py:310: UserWarning: Convert_system_message_to_human will be deprecated!\n",
      "  warnings.warn(\"Convert_system_message_to_human will be deprecated!\")\n"
     ]
    },
    {
     "name": "stdout",
     "output_type": "stream",
     "text": [
      "{'query': 'what is nestle HR Policy?', 'result': \"I'm sorry, but I cannot answer this question based on the provided context. Thanks for asking!\", 'source_documents': [Document(metadata={}, page_content='Policy\\nMandatory\\nSeptember\\u2009\\u20092012\\nThe Nestlé  \\nHuman Resources Policy Policy\\nMandatory\\nSeptember\\u2009\\u200920\\n12\\nIssuing\\u2009departement\\nHum\\nan Resources\\nTarget\\u2009audience\\u2009\\nAll\\n employees\\nApprover\\nExecutive Board, Nestlé S.A.\\nRepository\\nAll Nestlé Principles and Policies, Standards and  \\nGuidelines can be found in the Centre online repository at:  \\nhttp://intranet.nestle.com/nestledocs\\nCopyright\\u2009and\\u2009confidentiality\\nAl\\nl rights belong to Nestec Ltd., Vevey, Switzerland.\\n© 2012, Nestec Ltd.\\nDesign'), Document(metadata={}, page_content='adherence to the Nestlé principles will \\nbe considered in employing a person. No \\nconsideration will be given to a candidate’s origin, \\nnationality, religion, race, gender, disability, sexual \\norientation or age.\\nWhilst adequate recruitment tools may \\nimprove the hiring process, the decision to hire a \\ncandidate remains in the hands of the responsible \\nmanager, supported by the HR team. \\n Joining Nestlé The Nestlé Human Resources Policy\\n3\\n Total rewards\\nAttracting new hires and keeping current'), Document(metadata={}, page_content='having flexible career paths and providing dual \\ncareer support.\\nHR management provides the support for \\nimplementing the necessary tools, and partners \\nwith line managers to prepare the resources \\nnecessary for the continued development of \\npeople and the Company.\\nCorporate policy: \\nExpatriation Policy\\n Talent, development  \\n and performance management The Nestlé Human Resources Policy\\n5\\nSince its founding, Nestlé has built a culture \\nbased on values of trust, mutual respect and'), Document(metadata={}, page_content='principles which Nestlé endorses and subscribes \\nto on a worldwide basis. Both these documents \\nare the pillars on which the present policy has \\nbeen built.\\nThe implementation of this policy will be \\ninspired by sound judgement, compliance with \\nlocal market laws and common sense, taking into \\naccount the specific context. Its spirit should be \\nrespected under all circumstances and could be \\nsummarised in one sentence: At Nestlé we put \\npeople at the centre of everything we do.')]}\n"
     ]
    },
    {
     "name": "stderr",
     "output_type": "stream",
     "text": [
      "C:\\Users\\rachchh\\AppData\\Local\\Programs\\Python\\Python313\\Lib\\site-packages\\langchain_google_genai\\chat_models.py:310: UserWarning: Convert_system_message_to_human will be deprecated!\n",
      "  warnings.warn(\"Convert_system_message_to_human will be deprecated!\")\n"
     ]
    },
    {
     "name": "stdout",
     "output_type": "stream",
     "text": [
      "{'query': \"what is nestle's HR Policy?\", 'result': \"I'm sorry, but the provided context does not specify what Nestle's HR policy is. Thanks for asking!\", 'source_documents': [Document(metadata={}, page_content='adherence to the Nestlé principles will \\nbe considered in employing a person. No \\nconsideration will be given to a candidate’s origin, \\nnationality, religion, race, gender, disability, sexual \\norientation or age.\\nWhilst adequate recruitment tools may \\nimprove the hiring process, the decision to hire a \\ncandidate remains in the hands of the responsible \\nmanager, supported by the HR team. \\n Joining Nestlé The Nestlé Human Resources Policy\\n3\\n Total rewards\\nAttracting new hires and keeping current'), Document(metadata={}, page_content='Policy\\nMandatory\\nSeptember\\u2009\\u20092012\\nThe Nestlé  \\nHuman Resources Policy Policy\\nMandatory\\nSeptember\\u2009\\u200920\\n12\\nIssuing\\u2009departement\\nHum\\nan Resources\\nTarget\\u2009audience\\u2009\\nAll\\n employees\\nApprover\\nExecutive Board, Nestlé S.A.\\nRepository\\nAll Nestlé Principles and Policies, Standards and  \\nGuidelines can be found in the Centre online repository at:  \\nhttp://intranet.nestle.com/nestledocs\\nCopyright\\u2009and\\u2009confidentiality\\nAl\\nl rights belong to Nestec Ltd., Vevey, Switzerland.\\n© 2012, Nestec Ltd.\\nDesign'), Document(metadata={}, page_content='having flexible career paths and providing dual \\ncareer support.\\nHR management provides the support for \\nimplementing the necessary tools, and partners \\nwith line managers to prepare the resources \\nnecessary for the continued development of \\npeople and the Company.\\nCorporate policy: \\nExpatriation Policy\\n Talent, development  \\n and performance management The Nestlé Human Resources Policy\\n5\\nSince its founding, Nestlé has built a culture \\nbased on values of trust, mutual respect and'), Document(metadata={}, page_content='principles which Nestlé endorses and subscribes \\nto on a worldwide basis. Both these documents \\nare the pillars on which the present policy has \\nbeen built.\\nThe implementation of this policy will be \\ninspired by sound judgement, compliance with \\nlocal market laws and common sense, taking into \\naccount the specific context. Its spirit should be \\nrespected under all circumstances and could be \\nsummarised in one sentence: At Nestlé we put \\npeople at the centre of everything we do.')]}\n"
     ]
    },
    {
     "name": "stderr",
     "output_type": "stream",
     "text": [
      "C:\\Users\\rachchh\\AppData\\Local\\Programs\\Python\\Python313\\Lib\\site-packages\\langchain_google_genai\\chat_models.py:310: UserWarning: Convert_system_message_to_human will be deprecated!\n",
      "  warnings.warn(\"Convert_system_message_to_human will be deprecated!\")\n"
     ]
    },
    {
     "name": "stdout",
     "output_type": "stream",
     "text": [
      "{'query': 'what is HR Policy?', 'result': \"I'm sorry, but I cannot find the answer to your question in the provided context. Thanks for asking!\", 'source_documents': [Document(metadata={}, page_content='Policy\\nMandatory\\nSeptember\\u2009\\u20092012\\nThe Nestlé  \\nHuman Resources Policy Policy\\nMandatory\\nSeptember\\u2009\\u200920\\n12\\nIssuing\\u2009departement\\nHum\\nan Resources\\nTarget\\u2009audience\\u2009\\nAll\\n employees\\nApprover\\nExecutive Board, Nestlé S.A.\\nRepository\\nAll Nestlé Principles and Policies, Standards and  \\nGuidelines can be found in the Centre online repository at:  \\nhttp://intranet.nestle.com/nestledocs\\nCopyright\\u2009and\\u2009confidentiality\\nAl\\nl rights belong to Nestec Ltd., Vevey, Switzerland.\\n© 2012, Nestec Ltd.\\nDesign'), Document(metadata={}, page_content='of each country, and with respect to applicable \\ncollective agreements. \\nIt is the responsibility of each manager to \\npropose the remuneration of their employees \\nwithin the framework of Company policy. \\nSufficient time should be spent with each \\nemployee to explain her or his specific situation \\nin terms of remuneration and benefits, if needed \\nwith the support of HR management, in order to \\ncommunicate properly, clearly and with sufficient \\ntransparency.\\nCorporate policy:'), Document(metadata={}, page_content='are expected to make all necessary efforts \\nto develop fair and constructive dialogues, \\novercome the difficulties that they might \\nencounter, reach sustainable agreements and \\nimplement them.\\nCorporate policy: \\nThe Nestlé Employee Relations Policy\\n Employee relations\\nThe Human Resources management described \\nin this document requires and supports an \\norganisation “on the move”. \\nNestlé is committed to continue the journey \\nto establishing flat and flexible structures with'), Document(metadata={}, page_content='having flexible career paths and providing dual \\ncareer support.\\nHR management provides the support for \\nimplementing the necessary tools, and partners \\nwith line managers to prepare the resources \\nnecessary for the continued development of \\npeople and the Company.\\nCorporate policy: \\nExpatriation Policy\\n Talent, development  \\n and performance management The Nestlé Human Resources Policy\\n5\\nSince its founding, Nestlé has built a culture \\nbased on values of trust, mutual respect and')]}\n"
     ]
    },
    {
     "name": "stderr",
     "output_type": "stream",
     "text": [
      "C:\\Users\\rachchh\\AppData\\Local\\Programs\\Python\\Python313\\Lib\\site-packages\\langchain_google_genai\\chat_models.py:310: UserWarning: Convert_system_message_to_human will be deprecated!\n",
      "  warnings.warn(\"Convert_system_message_to_human will be deprecated!\")\n"
     ]
    },
    {
     "name": "stdout",
     "output_type": "stream",
     "text": [
      "{'query': 'what is HR policy for nestle?', 'result': \"I'm sorry, but the provided context does not contain any information about HR policy for Nestle. Thanks for asking!\", 'source_documents': [Document(metadata={}, page_content='Policy\\nMandatory\\nSeptember\\u2009\\u20092012\\nThe Nestlé  \\nHuman Resources Policy Policy\\nMandatory\\nSeptember\\u2009\\u200920\\n12\\nIssuing\\u2009departement\\nHum\\nan Resources\\nTarget\\u2009audience\\u2009\\nAll\\n employees\\nApprover\\nExecutive Board, Nestlé S.A.\\nRepository\\nAll Nestlé Principles and Policies, Standards and  \\nGuidelines can be found in the Centre online repository at:  \\nhttp://intranet.nestle.com/nestledocs\\nCopyright\\u2009and\\u2009confidentiality\\nAl\\nl rights belong to Nestec Ltd., Vevey, Switzerland.\\n© 2012, Nestec Ltd.\\nDesign'), Document(metadata={}, page_content='adherence to the Nestlé principles will \\nbe considered in employing a person. No \\nconsideration will be given to a candidate’s origin, \\nnationality, religion, race, gender, disability, sexual \\norientation or age.\\nWhilst adequate recruitment tools may \\nimprove the hiring process, the decision to hire a \\ncandidate remains in the hands of the responsible \\nmanager, supported by the HR team. \\n Joining Nestlé The Nestlé Human Resources Policy\\n3\\n Total rewards\\nAttracting new hires and keeping current'), Document(metadata={}, page_content='having flexible career paths and providing dual \\ncareer support.\\nHR management provides the support for \\nimplementing the necessary tools, and partners \\nwith line managers to prepare the resources \\nnecessary for the continued development of \\npeople and the Company.\\nCorporate policy: \\nExpatriation Policy\\n Talent, development  \\n and performance management The Nestlé Human Resources Policy\\n5\\nSince its founding, Nestlé has built a culture \\nbased on values of trust, mutual respect and'), Document(metadata={}, page_content='are expected to make all necessary efforts \\nto develop fair and constructive dialogues, \\novercome the difficulties that they might \\nencounter, reach sustainable agreements and \\nimplement them.\\nCorporate policy: \\nThe Nestlé Employee Relations Policy\\n Employee relations\\nThe Human Resources management described \\nin this document requires and supports an \\norganisation “on the move”. \\nNestlé is committed to continue the journey \\nto establishing flat and flexible structures with')]}\n"
     ]
    },
    {
     "name": "stderr",
     "output_type": "stream",
     "text": [
      "C:\\Users\\rachchh\\AppData\\Local\\Programs\\Python\\Python313\\Lib\\site-packages\\langchain_google_genai\\chat_models.py:310: UserWarning: Convert_system_message_to_human will be deprecated!\n",
      "  warnings.warn(\"Convert_system_message_to_human will be deprecated!\")\n"
     ]
    },
    {
     "name": "stdout",
     "output_type": "stream",
     "text": [
      "{'query': 'what is the responsiblitiy of line manager?', 'result': \"Line managers are responsible for building and sustaining an environment where people have a sense of personal commitment to their work and give their best to ensure the company's success. They care for and develop the leaders of tomorrow and decide on all people matters under their influence, within the boundaries set by the policies and principles, acting as the final decision makers. \\nThanks for asking!\", 'source_documents': [Document(metadata={}, page_content='Jean-Marc Duvoisin\\nDeputy Executive Vice President\\n Introduction The Nestlé Human Resources Policy\\n2\\nLine managers have the prime responsibility for \\nbuilding and sustaining an environment where \\npeople have a sense of personal commitment \\nto their work and give their best to ensure our \\nCompany’s success. They care for and develop \\nthe leaders of tomorrow.\\nLine managers decide on all people matters \\nunder their influence, within the boundaries set'), Document(metadata={}, page_content='values and principles, or programmes conducted \\nby our strategic learning partners. \\n Training and learning\\nAt Nestlé, a high performance culture supported by  \\ndifferentiated rewards and development is key to \\nthe delivery of individual and business objectives.  \\nThis is driven by the alignment of clear and chal- \\nlenging responsibilities and ensuring that employ-\\nees are aware of how their work impacts Nestlé.\\nThe line manager and employee work together'), Document(metadata={}, page_content='community involvement. \\nThose with line management responsibilities \\nare required to take personal ownership of safety \\nand health within their area of responsibility and \\nare encouraged to develop their capability in this \\narea.\\nNestlé’s commitment however goes beyond \\nits own employees. We care about all people \\nworking inside or outside our premises under \\ncontractual obligations with service providers \\nand we insist that they also take steps so that'), Document(metadata={}, page_content='by the policies and principles, acting as the final \\ndecision makers.\\nThe Human Resources (HR) structure \\nenables and empowers them in establishing \\nbusiness needs and their corresponding people \\nrequirements. \\nTherefore, the mission of HR managers and \\ntheir teams is to provide professional guidance \\nto line managers aiming to deliver superior \\nbusiness results by optimising the performance \\nof our people, while ensuring exemplary working \\nconditions.')]}\n"
     ]
    }
   ],
   "source": [
    "# Step 4: Integration with gradio\n",
    "import gradio as gr\n",
    "\n",
    "demo = gr.Interface(fn=chat_with_gemini,\n",
    "                    inputs=gr.Textbox(label= \"What can I help with?\"),\n",
    "                    outputs=gr.Textbox(label= \"AI-generated response\"),\n",
    "                    title=\"Nestle AI-Powered HR Assistant\")\n",
    "# To create a public link, set `share=True` in `launch()`\n",
    "demo.launch()"
   ]
  }
 ],
 "metadata": {
  "kernelspec": {
   "display_name": "Python 3 (ipykernel)",
   "language": "python",
   "name": "python3"
  },
  "language_info": {
   "codemirror_mode": {
    "name": "ipython",
    "version": 3
   },
   "file_extension": ".py",
   "mimetype": "text/x-python",
   "name": "python",
   "nbconvert_exporter": "python",
   "pygments_lexer": "ipython3",
   "version": "3.13.0"
  }
 },
 "nbformat": 4,
 "nbformat_minor": 5
}
