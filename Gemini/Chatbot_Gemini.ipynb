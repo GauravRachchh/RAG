{
 "cells": [
  {
   "cell_type": "code",
   "execution_count": 44,
   "id": "e65fecd2-8972-4507-b632-76d756b1e0d2",
   "metadata": {},
   "outputs": [
    {
     "name": "stderr",
     "output_type": "stream",
     "text": [
      "error uploading: HTTPSConnectionPool(host='us.i.posthog.com', port=443): Max retries exceeded with url: /batch/ (Caused by SSLError(SSLCertVerificationError(1, '[SSL: CERTIFICATE_VERIFY_FAILED] certificate verify failed: unable to get local issuer certificate (_ssl.c:1020)')))\n"
     ]
    }
   ],
   "source": [
    "# Step 1 : Load data into ChromaDB using Google Embedding Model\n",
    "import os\n",
    "import chromadb\n",
    "from langchain.document_loaders import PyPDFLoader\n",
    "from langchain.vectorstores import Chroma\n",
    "from langchain_text_splitters import RecursiveCharacterTextSplitter\n",
    "from langchain_google_genai import GoogleGenerativeAIEmbeddings\n",
    "from dotenv import load_dotenv\n",
    "\n",
    "# 1. Load the PDF\n",
    "loader = PyPDFLoader(r\"C:\\Applied_GenAI\\Course-4-AGS Advanced Generative AI Building LLM Applications\\Assessment\\AI_Powered_HR_Assistance\\nestle_hr_policy.pdf\")\n",
    "pages = loader.load()\n",
    "\n",
    "all_page_text=[p.page_content for p in pages]\n",
    "joined_page_text=\" \".join(all_page_text)\n",
    "\n",
    "# 2. Split the document into chunks\n",
    "text_splitter = RecursiveCharacterTextSplitter(chunk_size=500, chunk_overlap=0)\n",
    "chunks = text_splitter.split_text(joined_page_text)\n",
    "\n",
    "# 3. Configure Gemini API key\n",
    "load_dotenv()\n",
    "api_key = os.getenv(\"GEMINI_API_KEY\")\n",
    "\n",
    "# 4. Initialize the Google embeddings\n",
    "embeddings = GoogleGenerativeAIEmbeddings(model=\"models/embedding-001\",google_api_key=api_key)\n",
    "\n",
    "# 5. Load the Chroma database from disk\n",
    "persist_directory = r\"C:\\Applied_GenAI\\Jupyter_Notebooks\\basic_langchain\\chroma_storage\"\n",
    "chroma_db = Chroma(persist_directory=persist_directory, \n",
    "                   embedding_function=embeddings,\n",
    "                   collection_name=\"gemini_chroma_demo\")\n",
    "\n",
    "# 6. Get the collection from the Chroma database\n",
    "collection = chroma_db.get()\n",
    "\n",
    "# 7. If the collection is empty, create a new one\n",
    "if len(collection['ids']) == 0:\n",
    "    # Create a new Chroma database from the documents\n",
    "    chroma_db = Chroma.from_texts(\n",
    "        texts=chunks, \n",
    "        embedding=embeddings, \n",
    "        persist_directory=persist_directory,\n",
    "        collection_name=\"gemini_chroma_demo\"\n",
    "    )\n",
    "chroma_db.persist()"
   ]
  },
  {
   "cell_type": "code",
   "execution_count": 40,
   "id": "3a0c9613-be1e-4dac-b3f0-4d33f05bd116",
   "metadata": {},
   "outputs": [
    {
     "name": "stdout",
     "output_type": "stream",
     "text": [
      "input_variables=['context', 'question'] input_types={} partial_variables={} template='Use the following pieces of context to answer the question at the end. \\nIf you don\\'t know the answer, just say that you don\\'t know, don\\'t try to make up an answer. \\nKeep the answer as concise as possible. \\nAlways say \"thanks for asking!\" at the end of the answer. \\n{context}\\nQuestion: {question} \\nHelpful Answer:'\n"
     ]
    },
    {
     "name": "stderr",
     "output_type": "stream",
     "text": [
      "C:\\Users\\rachchh\\AppData\\Local\\Programs\\Python\\Python313\\Lib\\site-packages\\langchain_google_genai\\chat_models.py:310: UserWarning: Convert_system_message_to_human will be deprecated!\n",
      "  warnings.warn(\"Convert_system_message_to_human will be deprecated!\")\n"
     ]
    }
   ],
   "source": [
    "# Step 2: Combine a retriver and QA Chain\n",
    "from langchain.chains import RetrievalQA\n",
    "from langchain_google_genai import ChatGoogleGenerativeAI\n",
    "from langchain.prompts import PromptTemplate\n",
    "\n",
    "# 1. Initialize the Google Generative AI Model\n",
    "model = ChatGoogleGenerativeAI(model=\"gemini-pro\",\n",
    "                               google_api_key=api_key,\n",
    "                               temperature=0.3,\n",
    "                               convert_system_message_to_human=True\n",
    "                              ) \n",
    "\n",
    "# 2. Create prompt template\n",
    "template = \"\"\"Use the following pieces of context to answer the question at the end. \n",
    "If you don't know the answer, say that you don't know, don't try to make up an answer. \n",
    "Keep the answer as concise as possible. \n",
    "Always say \"thanks for asking!\" at the end of the answer. \n",
    "{context}\n",
    "Question: {question} \n",
    "Helpful Answer:\"\"\"\n",
    "\n",
    "qa_prompt = PromptTemplate(input_variables=[\"context\",\"question\"]\n",
    "                                 , template=template, \n",
    "                                ) \n",
    "# 3. load a chain for question-answering\n",
    "qa_chain = RetrievalQA.from_chain_type(llm=model\n",
    "                                       , retriever= chroma_db.as_retriever()\n",
    "                                       , return_source_documents=True\n",
    "                                       , chain_type=\"stuff\"\n",
    "                                       , chain_type_kwargs={\"prompt\": qa_prompt} \n",
    "                                      )"
   ]
  },
  {
   "cell_type": "code",
   "execution_count": 42,
   "id": "ff3b89a2-5c52-4711-87c0-5b797a8f2d94",
   "metadata": {},
   "outputs": [],
   "source": [
    "# Step 3: Method to ask a question to gemini\n",
    "def chat_with_gemini(usermessage):\n",
    "    result=qa_chain(usermessage)\n",
    "    print(result)\n",
    "    return result[\"result\"]"
   ]
  },
  {
   "cell_type": "code",
   "execution_count": 43,
   "id": "567bd8e2-62d4-4daa-883b-c233d82db121",
   "metadata": {},
   "outputs": [
    {
     "name": "stdout",
     "output_type": "stream",
     "text": [
      "* Running on local URL:  http://127.0.0.1:7862\n",
      "\n",
      "To create a public link, set `share=True` in `launch()`.\n"
     ]
    },
    {
     "data": {
      "text/html": [
       "<div><iframe src=\"http://127.0.0.1:7862/\" width=\"100%\" height=\"500\" allow=\"autoplay; camera; microphone; clipboard-read; clipboard-write;\" frameborder=\"0\" allowfullscreen></iframe></div>"
      ],
      "text/plain": [
       "<IPython.core.display.HTML object>"
      ]
     },
     "metadata": {},
     "output_type": "display_data"
    },
    {
     "data": {
      "text/plain": []
     },
     "execution_count": 43,
     "metadata": {},
     "output_type": "execute_result"
    },
    {
     "name": "stderr",
     "output_type": "stream",
     "text": [
      "C:\\Users\\rachchh\\AppData\\Local\\Programs\\Python\\Python313\\Lib\\site-packages\\langchain_google_genai\\chat_models.py:310: UserWarning: Convert_system_message_to_human will be deprecated!\n",
      "  warnings.warn(\"Convert_system_message_to_human will be deprecated!\")\n"
     ]
    },
    {
     "name": "stdout",
     "output_type": "stream",
     "text": [
      "{'query': 'What is the prime responsiblity of Line Manager?', 'result': 'The prime responsibility of Line Manager is to build and sustain an environment where people have a sense of personal commitment to their work and give their best to ensure our Company’s success. \\nThanks for asking!', 'source_documents': [Document(metadata={}, page_content='Jean-Marc Duvoisin\\nDeputy Executive Vice President\\n Introduction The Nestlé Human Resources Policy\\n2\\nLine managers have the prime responsibility for \\nbuilding and sustaining an environment where \\npeople have a sense of personal commitment \\nto their work and give their best to ensure our \\nCompany’s success. They care for and develop \\nthe leaders of tomorrow.\\nLine managers decide on all people matters \\nunder their influence, within the boundaries set'), Document(metadata={}, page_content='values and principles, or programmes conducted \\nby our strategic learning partners. \\n Training and learning\\nAt Nestlé, a high performance culture supported by  \\ndifferentiated rewards and development is key to \\nthe delivery of individual and business objectives.  \\nThis is driven by the alignment of clear and chal- \\nlenging responsibilities and ensuring that employ-\\nees are aware of how their work impacts Nestlé.\\nThe line manager and employee work together'), Document(metadata={}, page_content='community involvement. \\nThose with line management responsibilities \\nare required to take personal ownership of safety \\nand health within their area of responsibility and \\nare encouraged to develop their capability in this \\narea.\\nNestlé’s commitment however goes beyond \\nits own employees. We care about all people \\nworking inside or outside our premises under \\ncontractual obligations with service providers \\nand we insist that they also take steps so that'), Document(metadata={}, page_content='Employment and working conditions  The Nestlé Human Resources Policy\\n4\\nLearning is part of the Company culture.\\nEmployees at all levels are systematically \\nencouraged to consider how they upgrade their \\nknowledge and skills.\\nThe Company determines training and deve-\\nlopment priorities. The responsibility for turning \\nthese into actions is shared between employees, \\nline managers and the Human Resources. \\nExperience and on-the-job training are the \\nprimary source of learning. Managers are')]}\n"
     ]
    },
    {
     "name": "stderr",
     "output_type": "stream",
     "text": [
      "C:\\Users\\rachchh\\AppData\\Local\\Programs\\Python\\Python313\\Lib\\site-packages\\langchain_google_genai\\chat_models.py:310: UserWarning: Convert_system_message_to_human will be deprecated!\n",
      "  warnings.warn(\"Convert_system_message_to_human will be deprecated!\")\n"
     ]
    },
    {
     "name": "stdout",
     "output_type": "stream",
     "text": [
      "{'query': 'What is the prime responsiblity of Development Manager?', 'result': \"I'm sorry, but the provided context does not mention anything about the prime responsibility of a Development Manager, so I cannot answer this question. \\nThanks for asking!\", 'source_documents': [Document(metadata={}, page_content='Jean-Marc Duvoisin\\nDeputy Executive Vice President\\n Introduction The Nestlé Human Resources Policy\\n2\\nLine managers have the prime responsibility for \\nbuilding and sustaining an environment where \\npeople have a sense of personal commitment \\nto their work and give their best to ensure our \\nCompany’s success. They care for and develop \\nthe leaders of tomorrow.\\nLine managers decide on all people matters \\nunder their influence, within the boundaries set'), Document(metadata={}, page_content='responsible for guiding and coaching employees \\nto succeed in their current positions.  \\nNestlé employees understand the importance \\nof continuous improvement, as well as sharing \\nknowledge and ideas freely with others. Practices \\nsuch as lateral professional development, \\nextension of responsibilities, and cross functional \\nteams are encouraged to acquire additional skills, \\nenrich job content and widen accountability.\\nNestlé also offers a comprehensive range of'), Document(metadata={}, page_content='Employment and working conditions  The Nestlé Human Resources Policy\\n4\\nLearning is part of the Company culture.\\nEmployees at all levels are systematically \\nencouraged to consider how they upgrade their \\nknowledge and skills.\\nThe Company determines training and deve-\\nlopment priorities. The responsibility for turning \\nthese into actions is shared between employees, \\nline managers and the Human Resources. \\nExperience and on-the-job training are the \\nprimary source of learning. Managers are'), Document(metadata={}, page_content='depends on its capacity to attract, retain and \\ndevelop employees able to ensure ongoing \\nand sustainable growth. This is a primary \\nresponsibility of all managers.\\nThe Nestlé policy is to hire employees with \\npersonal attitudes and professional skills enabling \\nthem to develop a long-term relationship with the \\nCompany. Therefore, special attention will be paid \\nto ensure there is a strong alignment between a \\ncandidate’s values and the Nestlé culture.\\nOnly relevant skills and experience and')]}\n"
     ]
    },
    {
     "name": "stderr",
     "output_type": "stream",
     "text": [
      "C:\\Users\\rachchh\\AppData\\Local\\Programs\\Python\\Python313\\Lib\\site-packages\\langchain_google_genai\\chat_models.py:310: UserWarning: Convert_system_message_to_human will be deprecated!\n",
      "  warnings.warn(\"Convert_system_message_to_human will be deprecated!\")\n"
     ]
    },
    {
     "name": "stdout",
     "output_type": "stream",
     "text": [
      "{'query': 'What is the prime responsiblity of HR department?', 'result': 'I cannot answer this question because the provided context does not mention the prime responsibility of the HR department. Thanks for asking!', 'source_documents': [Document(metadata={}, page_content='by the policies and principles, acting as the final \\ndecision makers.\\nThe Human Resources (HR) structure \\nenables and empowers them in establishing \\nbusiness needs and their corresponding people \\nrequirements. \\nTherefore, the mission of HR managers and \\ntheir teams is to provide professional guidance \\nto line managers aiming to deliver superior \\nbusiness results by optimising the performance \\nof our people, while ensuring exemplary working \\nconditions.'), Document(metadata={}, page_content='Jean-Marc Duvoisin\\nDeputy Executive Vice President\\n Introduction The Nestlé Human Resources Policy\\n2\\nLine managers have the prime responsibility for \\nbuilding and sustaining an environment where \\npeople have a sense of personal commitment \\nto their work and give their best to ensure our \\nCompany’s success. They care for and develop \\nthe leaders of tomorrow.\\nLine managers decide on all people matters \\nunder their influence, within the boundaries set'), Document(metadata={}, page_content='With a ‘Nestlé in the Market’ (NiM) approach, \\nHR has adopted a streamlined approach to \\nensuring functional leadership and the highest \\nlevel of focus, clarity, and efficiency. Our structure \\nis based on three dedicated areas which provide \\nspecialized services (Centres of Expertise), \\ndeploy HR  strategies within a specific business \\n(Business Partners) and perform transactional \\nactivities (Employee Services).\\n A shared responsibility\\nThe long-term success of the Company'), Document(metadata={}, page_content='Employment and working conditions  The Nestlé Human Resources Policy\\n4\\nLearning is part of the Company culture.\\nEmployees at all levels are systematically \\nencouraged to consider how they upgrade their \\nknowledge and skills.\\nThe Company determines training and deve-\\nlopment priorities. The responsibility for turning \\nthese into actions is shared between employees, \\nline managers and the Human Resources. \\nExperience and on-the-job training are the \\nprimary source of learning. Managers are')]}\n"
     ]
    },
    {
     "name": "stderr",
     "output_type": "stream",
     "text": [
      "C:\\Users\\rachchh\\AppData\\Local\\Programs\\Python\\Python313\\Lib\\site-packages\\langchain_google_genai\\chat_models.py:310: UserWarning: Convert_system_message_to_human will be deprecated!\n",
      "  warnings.warn(\"Convert_system_message_to_human will be deprecated!\")\n"
     ]
    },
    {
     "name": "stdout",
     "output_type": "stream",
     "text": [
      "{'query': 'What is the prime responsiblity of Nestle?', 'result': 'I cannot answer this question from the provided context. \\nThanks for asking!', 'source_documents': [Document(metadata={}, page_content='Employment and working conditions  The Nestlé Human Resources Policy\\n4\\nLearning is part of the Company culture.\\nEmployees at all levels are systematically \\nencouraged to consider how they upgrade their \\nknowledge and skills.\\nThe Company determines training and deve-\\nlopment priorities. The responsibility for turning \\nthese into actions is shared between employees, \\nline managers and the Human Resources. \\nExperience and on-the-job training are the \\nprimary source of learning. Managers are'), Document(metadata={}, page_content='community involvement. \\nThose with line management responsibilities \\nare required to take personal ownership of safety \\nand health within their area of responsibility and \\nare encouraged to develop their capability in this \\narea.\\nNestlé’s commitment however goes beyond \\nits own employees. We care about all people \\nworking inside or outside our premises under \\ncontractual obligations with service providers \\nand we insist that they also take steps so that'), Document(metadata={}, page_content='which constitute a solid basis for effective Human \\nResources Management throughout the Nestlé \\nGroup around the world. It explains to all Nestlé \\nemployees the vision and mission of the Human \\nResources function and illustrates every aspect of \\nthe Nestlé employee lifecycle. \\nThe Nestlé Management and Leadership \\nPrinciples inspire all the Nestlé employees in their \\nactions and in their dealings with others. The \\nCorporate Business Principles refer to all the basic'), Document(metadata={}, page_content='These simple beliefs have inspired us to create \\nan environment that puts the emphasis not just on \\nindividual responsibility and autonomy, but also \\non a strong willingness to support others, to work \\nin multi-skilled teams, and to cooperate rather \\nthan to compete internally.\\nA dynamic organisation creates a climate \\nof innovation and allows people to think from \\ndifferent perspectives. At Nestlé we encourage \\nour people to take risks. Mistakes may be made')]}\n"
     ]
    },
    {
     "name": "stderr",
     "output_type": "stream",
     "text": [
      "C:\\Users\\rachchh\\AppData\\Local\\Programs\\Python\\Python313\\Lib\\site-packages\\langchain_google_genai\\chat_models.py:310: UserWarning: Convert_system_message_to_human will be deprecated!\n",
      "  warnings.warn(\"Convert_system_message_to_human will be deprecated!\")\n"
     ]
    },
    {
     "name": "stdout",
     "output_type": "stream",
     "text": [
      "{'query': 'What is  Nestle?', 'result': 'Nestle is a company that produces food and beverages. \\nThanks for asking!', 'source_documents': [Document(metadata={}, page_content='Nestec Ltd., Corporate Identity & Design,  \\nVevey, Switzerland\\nProduction\\nbrain’print GmbH, Switzerland\\nPaper\\nThis report is printed on BVS, a paper produced  \\nfrom well-managed forests and other controlled sources  \\ncertified by the Forest Stewardship Council (FSC). The Nestlé Human Resources Policy\\n1\\nAt Nestlé, we recognize that our employees \\nare the key to our success and nothing can be \\nachieved without their engagement. \\nThis document encompasses the guidelines'), Document(metadata={}, page_content='which constitute a solid basis for effective Human \\nResources Management throughout the Nestlé \\nGroup around the world. It explains to all Nestlé \\nemployees the vision and mission of the Human \\nResources function and illustrates every aspect of \\nthe Nestlé employee lifecycle. \\nThe Nestlé Management and Leadership \\nPrinciples inspire all the Nestlé employees in their \\nactions and in their dealings with others. The \\nCorporate Business Principles refer to all the basic'), Document(metadata={}, page_content='These simple beliefs have inspired us to create \\nan environment that puts the emphasis not just on \\nindividual responsibility and autonomy, but also \\non a strong willingness to support others, to work \\nin multi-skilled teams, and to cooperate rather \\nthan to compete internally.\\nA dynamic organisation creates a climate \\nof innovation and allows people to think from \\ndifferent perspectives. At Nestlé we encourage \\nour people to take risks. Mistakes may be made'), Document(metadata={}, page_content='Employment and working conditions  The Nestlé Human Resources Policy\\n4\\nLearning is part of the Company culture.\\nEmployees at all levels are systematically \\nencouraged to consider how they upgrade their \\nknowledge and skills.\\nThe Company determines training and deve-\\nlopment priorities. The responsibility for turning \\nthese into actions is shared between employees, \\nline managers and the Human Resources. \\nExperience and on-the-job training are the \\nprimary source of learning. Managers are')]}\n"
     ]
    }
   ],
   "source": [
    "# Step 4: Integration with gradio\n",
    "import gradio as gr\n",
    "\n",
    "demo = gr.Interface(fn=chat_with_gemini,\n",
    "                    inputs=gr.Textbox(label= \"What can I help with?\"),\n",
    "                    outputs=gr.Textbox(label= \"AI-generated response\"),\n",
    "                    title=\"Nestle AI-Powered HR Assistant\")\n",
    "# To create a public link, set `share=True` in `launch()`\n",
    "demo.launch()"
   ]
  },
  {
   "cell_type": "code",
   "execution_count": null,
   "id": "14ae0129-ac7c-4877-8cc7-da9dfffd8641",
   "metadata": {},
   "outputs": [],
   "source": []
  },
  {
   "cell_type": "code",
   "execution_count": null,
   "id": "3cfce4b5-c2ea-4cf7-a03d-9fc4628bd309",
   "metadata": {},
   "outputs": [],
   "source": []
  }
 ],
 "metadata": {
  "kernelspec": {
   "display_name": "Python 3 (ipykernel)",
   "language": "python",
   "name": "python3"
  },
  "language_info": {
   "codemirror_mode": {
    "name": "ipython",
    "version": 3
   },
   "file_extension": ".py",
   "mimetype": "text/x-python",
   "name": "python",
   "nbconvert_exporter": "python",
   "pygments_lexer": "ipython3",
   "version": "3.13.0"
  }
 },
 "nbformat": 4,
 "nbformat_minor": 5
}
