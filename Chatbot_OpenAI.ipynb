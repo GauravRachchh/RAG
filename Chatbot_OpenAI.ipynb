{
 "cells": [
  {
   "cell_type": "code",
   "execution_count": 57,
   "id": "b6b03c1d-9942-4c36-84ea-49bb92880d9d",
   "metadata": {},
   "outputs": [],
   "source": [
    "# Step 1:  Load Data\n",
    "from langchain_community.document_loaders import PyPDFLoader\n",
    "from langchain.text_splitter import RecursiveCharacterTextSplitter\n",
    "file_path= r\"C:\\Applied_GenAI\\Course-4-AGS Advanced Generative AI Building LLM Applications\\Assessment\\AI_Powered_HR_Assistance\\nestle_hr_policy.pdf\"\n",
    "loader = PyPDFLoader(file_path)\n",
    "pages = loader.load()\n",
    "all_page_text=[p.page_content for p in pages]\n",
    "joined_page_text=\" \".join(all_page_text)"
   ]
  },
  {
   "cell_type": "code",
   "execution_count": 58,
   "id": "750baf3b-8979-4648-bac3-25de3fe6988f",
   "metadata": {},
   "outputs": [],
   "source": [
    "# Step 2: Split\n",
    "text_splitter = RecursiveCharacterTextSplitter(chunk_size = 1500,chunk_overlap = 150)\n",
    "splits = text_splitter.split_text(joined_page_text)"
   ]
  },
  {
   "cell_type": "code",
   "execution_count": 60,
   "id": "a616b5a4-1408-4feb-a3b8-7a90030acfb4",
   "metadata": {},
   "outputs": [],
   "source": [
    "#Step 3: Load OpenAI API Key\n",
    "import os\n",
    "from dotenv import load_dotenv\n",
    "load_dotenv()\n",
    "api_key = os.getenv(\"OPENAI_API_KEY\")"
   ]
  },
  {
   "cell_type": "code",
   "execution_count": 61,
   "id": "dcee5a35-7654-41d9-80e1-9e48eee4a4ea",
   "metadata": {
    "scrolled": true
   },
   "outputs": [
    {
     "name": "stderr",
     "output_type": "stream",
     "text": [
      "error uploading: HTTPSConnectionPool(host='us.i.posthog.com', port=443): Max retries exceeded with url: /batch/ (Caused by SSLError(SSLCertVerificationError(1, '[SSL: CERTIFICATE_VERIFY_FAILED] certificate verify failed: unable to get local issuer certificate (_ssl.c:1020)')))\n"
     ]
    }
   ],
   "source": [
    "# %% Step 4: Embed and vectorize and store\n",
    "import os\n",
    "from openai import OpenAI\n",
    "from langchain.embeddings.openai import OpenAIEmbeddings\n",
    "from langchain.vectorstores import Chroma\n",
    "persist_directory = r\"C:\\Applied_GenAI\\Jupyter_Notebooks\\basic_langchain\\chroma_storage\"\n",
    "tiktoken_cache_dir = r\"C:\\Applied_GenAI\\Jupyter_Notebooks\\temp\"\n",
    "os.environ[\"TIKTOKEN_CACHE_DIR\"] = tiktoken_cache_dir\n",
    "embedding = OpenAIEmbeddings(api_key=api_key)\n",
    "vectordb = Chroma.from_texts(\n",
    "    texts=splits,\n",
    "    embedding=embedding,\n",
    "    persist_directory=persist_directory\n",
    ")\n",
    "vectordb.persist()"
   ]
  },
  {
   "cell_type": "code",
   "execution_count": 62,
   "id": "156788d9-0afe-4835-bdae-6853c2ac9ae8",
   "metadata": {},
   "outputs": [],
   "source": [
    "# Retrieve the answer\n",
    "from langchain.chat_models import ChatOpenAI\n",
    "qa = RetrievalQA.from_chain_type(\n",
    "    llm=ChatOpenAI(model_name=\"gpt-3.5-turbo\", temperature=0), \n",
    "    chain_type=\"stuff\", \n",
    "    retriever=vectordb.as_retriever(),\n",
    "    return_source_documents=True,\n",
    ")"
   ]
  },
  {
   "cell_type": "code",
   "execution_count": 65,
   "id": "ff3b89a2-5c52-4711-87c0-5b797a8f2d94",
   "metadata": {},
   "outputs": [],
   "source": [
    "# Method to ask the question\n",
    "def chat_with_chatgpt(usermessage):\n",
    "    result=qa(usermessage)\n",
    "    return result[\"result\"]"
   ]
  },
  {
   "cell_type": "code",
   "execution_count": 66,
   "id": "66d10706-be45-4174-a11a-669e5280a92e",
   "metadata": {},
   "outputs": [
    {
     "name": "stdout",
     "output_type": "stream",
     "text": [
      "* Running on local URL:  http://127.0.0.1:7865\n",
      "\n",
      "To create a public link, set `share=True` in `launch()`.\n"
     ]
    },
    {
     "data": {
      "text/html": [
       "<div><iframe src=\"http://127.0.0.1:7865/\" width=\"100%\" height=\"500\" allow=\"autoplay; camera; microphone; clipboard-read; clipboard-write;\" frameborder=\"0\" allowfullscreen></iframe></div>"
      ],
      "text/plain": [
       "<IPython.core.display.HTML object>"
      ]
     },
     "metadata": {},
     "output_type": "display_data"
    },
    {
     "data": {
      "text/plain": []
     },
     "execution_count": 66,
     "metadata": {},
     "output_type": "execute_result"
    },
    {
     "name": "stdout",
     "output_type": "stream",
     "text": [
      "Using existing dataset file at: .gradio\\flagged\\dataset1.csv\n"
     ]
    }
   ],
   "source": [
    "# Integration with gradio\n",
    "import gradio as gr\n",
    "\n",
    "demo = gr.Interface(fn=chat_with_chatgpt,\n",
    "                    inputs=gr.Textbox(label= \"What can I help with?\"),\n",
    "                    outputs=gr.Textbox(label= \"AI-generated response\"),\n",
    "                    title=\"Nestle AI-Powered HR Assistant\")\n",
    "demo.launch()\n"
   ]
  },
  {
   "cell_type": "code",
   "execution_count": null,
   "id": "0837e063-117d-4b20-b583-863aa434dc18",
   "metadata": {},
   "outputs": [],
   "source": []
  }
 ],
 "metadata": {
  "kernelspec": {
   "display_name": "Python 3 (ipykernel)",
   "language": "python",
   "name": "python3"
  },
  "language_info": {
   "codemirror_mode": {
    "name": "ipython",
    "version": 3
   },
   "file_extension": ".py",
   "mimetype": "text/x-python",
   "name": "python",
   "nbconvert_exporter": "python",
   "pygments_lexer": "ipython3",
   "version": "3.13.0"
  }
 },
 "nbformat": 4,
 "nbformat_minor": 5
}
